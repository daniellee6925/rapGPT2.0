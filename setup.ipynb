{
 "cells": [
  {
   "cell_type": "code",
   "execution_count": 16,
   "id": "2abb93b7",
   "metadata": {},
   "outputs": [],
   "source": [
    "\n",
    "import pandas as pd \n",
    "PATH = \"scrapped_lyrics.csv\"\n",
    "data = pd.read_csv(PATH, sep=\",\", comment=\"#\", encoding=\"ISO-8859-1\", on_bad_lines='skip')"
   ]
  },
  {
   "cell_type": "code",
   "execution_count": 17,
   "id": "e08b3de4",
   "metadata": {},
   "outputs": [
    {
     "data": {
      "text/html": [
       "<div>\n",
       "<style scoped>\n",
       "    .dataframe tbody tr th:only-of-type {\n",
       "        vertical-align: middle;\n",
       "    }\n",
       "\n",
       "    .dataframe tbody tr th {\n",
       "        vertical-align: top;\n",
       "    }\n",
       "\n",
       "    .dataframe thead th {\n",
       "        text-align: right;\n",
       "    }\n",
       "</style>\n",
       "<table border=\"1\" class=\"dataframe\">\n",
       "  <thead>\n",
       "    <tr style=\"text-align: right;\">\n",
       "      <th></th>\n",
       "      <th>0</th>\n",
       "      <th>artist</th>\n",
       "      <th>song</th>\n",
       "      <th>lyric</th>\n",
       "      <th>next lyric</th>\n",
       "    </tr>\n",
       "  </thead>\n",
       "  <tbody>\n",
       "    <tr>\n",
       "      <th>0</th>\n",
       "      <td>0</td>\n",
       "      <td>Fetty Wap</td>\n",
       "      <td>Trap Queen</td>\n",
       "      <td>rgf productions</td>\n",
       "      <td>remy boyz yahah</td>\n",
       "    </tr>\n",
       "    <tr>\n",
       "      <th>1</th>\n",
       "      <td>0</td>\n",
       "      <td>Fetty Wap</td>\n",
       "      <td>Trap Queen</td>\n",
       "      <td>remy boyz yahah</td>\n",
       "      <td>1738 ayy</td>\n",
       "    </tr>\n",
       "    <tr>\n",
       "      <th>2</th>\n",
       "      <td>0</td>\n",
       "      <td>Fetty Wap</td>\n",
       "      <td>Trap Queen</td>\n",
       "      <td>1738 ayy</td>\n",
       "      <td>im like hey whats up hello</td>\n",
       "    </tr>\n",
       "    <tr>\n",
       "      <th>3</th>\n",
       "      <td>0</td>\n",
       "      <td>Fetty Wap</td>\n",
       "      <td>Trap Queen</td>\n",
       "      <td>im like hey whats up hello</td>\n",
       "      <td>seen yo pretty ass soon as you came in the door</td>\n",
       "    </tr>\n",
       "    <tr>\n",
       "      <th>4</th>\n",
       "      <td>0</td>\n",
       "      <td>Fetty Wap</td>\n",
       "      <td>Trap Queen</td>\n",
       "      <td>seen yo pretty ass soon as you came in the door</td>\n",
       "      <td>i just wanna chill got a sack for us to roll</td>\n",
       "    </tr>\n",
       "  </tbody>\n",
       "</table>\n",
       "</div>"
      ],
      "text/plain": [
       "   0     artist        song                                            lyric  \\\n",
       "0  0  Fetty Wap  Trap Queen                                  rgf productions   \n",
       "1  0  Fetty Wap  Trap Queen                                  remy boyz yahah   \n",
       "2  0  Fetty Wap  Trap Queen                                         1738 ayy   \n",
       "3  0  Fetty Wap  Trap Queen                      im like hey whats up hello    \n",
       "4  0  Fetty Wap  Trap Queen  seen yo pretty ass soon as you came in the door   \n",
       "\n",
       "                                        next lyric  \n",
       "0                                  remy boyz yahah  \n",
       "1                                         1738 ayy  \n",
       "2                      im like hey whats up hello   \n",
       "3  seen yo pretty ass soon as you came in the door  \n",
       "4     i just wanna chill got a sack for us to roll  "
      ]
     },
     "execution_count": 17,
     "metadata": {},
     "output_type": "execute_result"
    }
   ],
   "source": [
    "data.head()"
   ]
  },
  {
   "cell_type": "code",
   "execution_count": 18,
   "id": "47518de6",
   "metadata": {},
   "outputs": [
    {
     "data": {
      "text/html": [
       "<div>\n",
       "<style scoped>\n",
       "    .dataframe tbody tr th:only-of-type {\n",
       "        vertical-align: middle;\n",
       "    }\n",
       "\n",
       "    .dataframe tbody tr th {\n",
       "        vertical-align: top;\n",
       "    }\n",
       "\n",
       "    .dataframe thead th {\n",
       "        text-align: right;\n",
       "    }\n",
       "</style>\n",
       "<table border=\"1\" class=\"dataframe\">\n",
       "  <thead>\n",
       "    <tr style=\"text-align: right;\">\n",
       "      <th></th>\n",
       "      <th>0</th>\n",
       "      <th>artist</th>\n",
       "      <th>song</th>\n",
       "      <th>lyric</th>\n",
       "      <th>next lyric</th>\n",
       "      <th>full_lyric</th>\n",
       "    </tr>\n",
       "  </thead>\n",
       "  <tbody>\n",
       "    <tr>\n",
       "      <th>0</th>\n",
       "      <td>0</td>\n",
       "      <td>Fetty Wap</td>\n",
       "      <td>Trap Queen</td>\n",
       "      <td>rgf productions</td>\n",
       "      <td>remy boyz yahah</td>\n",
       "      <td>rgf productions remy boyz yahah</td>\n",
       "    </tr>\n",
       "    <tr>\n",
       "      <th>1</th>\n",
       "      <td>0</td>\n",
       "      <td>Fetty Wap</td>\n",
       "      <td>Trap Queen</td>\n",
       "      <td>remy boyz yahah</td>\n",
       "      <td>1738 ayy</td>\n",
       "      <td>remy boyz yahah 1738 ayy</td>\n",
       "    </tr>\n",
       "    <tr>\n",
       "      <th>2</th>\n",
       "      <td>0</td>\n",
       "      <td>Fetty Wap</td>\n",
       "      <td>Trap Queen</td>\n",
       "      <td>1738 ayy</td>\n",
       "      <td>im like hey whats up hello</td>\n",
       "      <td>1738 ayy im like hey whats up hello</td>\n",
       "    </tr>\n",
       "    <tr>\n",
       "      <th>3</th>\n",
       "      <td>0</td>\n",
       "      <td>Fetty Wap</td>\n",
       "      <td>Trap Queen</td>\n",
       "      <td>im like hey whats up hello</td>\n",
       "      <td>seen yo pretty ass soon as you came in the door</td>\n",
       "      <td>im like hey whats up hello  seen yo pretty ass...</td>\n",
       "    </tr>\n",
       "    <tr>\n",
       "      <th>4</th>\n",
       "      <td>0</td>\n",
       "      <td>Fetty Wap</td>\n",
       "      <td>Trap Queen</td>\n",
       "      <td>seen yo pretty ass soon as you came in the door</td>\n",
       "      <td>i just wanna chill got a sack for us to roll</td>\n",
       "      <td>seen yo pretty ass soon as you came in the doo...</td>\n",
       "    </tr>\n",
       "  </tbody>\n",
       "</table>\n",
       "</div>"
      ],
      "text/plain": [
       "   0     artist        song                                            lyric  \\\n",
       "0  0  Fetty Wap  Trap Queen                                  rgf productions   \n",
       "1  0  Fetty Wap  Trap Queen                                  remy boyz yahah   \n",
       "2  0  Fetty Wap  Trap Queen                                         1738 ayy   \n",
       "3  0  Fetty Wap  Trap Queen                      im like hey whats up hello    \n",
       "4  0  Fetty Wap  Trap Queen  seen yo pretty ass soon as you came in the door   \n",
       "\n",
       "                                        next lyric  \\\n",
       "0                                  remy boyz yahah   \n",
       "1                                         1738 ayy   \n",
       "2                      im like hey whats up hello    \n",
       "3  seen yo pretty ass soon as you came in the door   \n",
       "4     i just wanna chill got a sack for us to roll   \n",
       "\n",
       "                                          full_lyric  \n",
       "0                    rgf productions remy boyz yahah  \n",
       "1                           remy boyz yahah 1738 ayy  \n",
       "2               1738 ayy im like hey whats up hello   \n",
       "3  im like hey whats up hello  seen yo pretty ass...  \n",
       "4  seen yo pretty ass soon as you came in the doo...  "
      ]
     },
     "execution_count": 18,
     "metadata": {},
     "output_type": "execute_result"
    }
   ],
   "source": [
    "data[\"full_lyric\"] = data[\"lyric\"] + \" \" + data[\"next lyric\"]\n",
    "data.head()"
   ]
  },
  {
   "cell_type": "code",
   "execution_count": 25,
   "id": "c48f4b34",
   "metadata": {},
   "outputs": [
    {
     "name": "stdout",
     "output_type": "stream",
     "text": [
      "226\n"
     ]
    }
   ],
   "source": [
    "# Assuming 'data' is your pandas DataFrame and 'column_name' is the column you're interested in\n",
    "unique_counts = data['artist'].nunique()\n",
    "\n",
    "# Show the result\n",
    "print(unique_counts)\n"
   ]
  },
  {
   "cell_type": "code",
   "execution_count": 22,
   "id": "45c964fb",
   "metadata": {},
   "outputs": [
    {
     "name": "stdout",
     "output_type": "stream",
     "text": [
      "Lyrics have been written to Data/lyrics_Data.txt\n",
      "Total number of words: 23009521\n"
     ]
    }
   ],
   "source": [
    "output_file_path = \"Data/\"\n",
    "lyrics_file_name = \"lyrics_Data.txt\"\n",
    "lyrics = data[\"full_lyric\"].fillna(\"\").astype(str).str.lower()\n",
    "\n",
    "import re\n",
    "lyrics = lyrics.apply(lambda x: re.sub(r'[^\\w\\s]', '', x))  # remove punctuation\n",
    "\n",
    "# Write lyrics to the text file, each lyric on a new line\n",
    "with open(output_file_path + lyrics_file_name, \"w\", encoding=\"utf-8\") as f:\n",
    "    for lyric in lyrics:\n",
    "        f.write(lyric + \"\\n\")\n",
    "print(f\"Lyrics have been written to {output_file_path + lyrics_file_name}\")\n",
    "\n",
    "# 4. Count total words\n",
    "all_text = \" \".join(lyrics)\n",
    "word_count = len(all_text.split())\n",
    "\n",
    "print(f\"Total number of words: {word_count}\")"
   ]
  },
  {
   "cell_type": "code",
   "execution_count": 27,
   "id": "814626bd",
   "metadata": {},
   "outputs": [
    {
     "name": "stdout",
     "output_type": "stream",
     "text": [
      "Collecting transformers\n",
      "  Downloading transformers-4.51.2-py3-none-any.whl.metadata (38 kB)\n",
      "Requirement already satisfied: filelock in c:\\users\\danie\\github\\rapgpt2.0\\.venv\\lib\\site-packages (from transformers) (3.13.1)\n",
      "Requirement already satisfied: huggingface-hub<1.0,>=0.30.0 in c:\\users\\danie\\github\\rapgpt2.0\\.venv\\lib\\site-packages (from transformers) (0.30.2)\n",
      "Requirement already satisfied: numpy>=1.17 in c:\\users\\danie\\github\\rapgpt2.0\\.venv\\lib\\site-packages (from transformers) (2.1.2)\n",
      "Requirement already satisfied: packaging>=20.0 in c:\\users\\danie\\github\\rapgpt2.0\\.venv\\lib\\site-packages (from transformers) (24.2)\n",
      "Requirement already satisfied: pyyaml>=5.1 in c:\\users\\danie\\github\\rapgpt2.0\\.venv\\lib\\site-packages (from transformers) (6.0.2)\n",
      "Requirement already satisfied: regex!=2019.12.17 in c:\\users\\danie\\github\\rapgpt2.0\\.venv\\lib\\site-packages (from transformers) (2024.11.6)\n",
      "Requirement already satisfied: requests in c:\\users\\danie\\github\\rapgpt2.0\\.venv\\lib\\site-packages (from transformers) (2.32.3)\n",
      "Requirement already satisfied: tokenizers<0.22,>=0.21 in c:\\users\\danie\\github\\rapgpt2.0\\.venv\\lib\\site-packages (from transformers) (0.21.1)\n",
      "Collecting safetensors>=0.4.3 (from transformers)\n",
      "  Downloading safetensors-0.5.3-cp38-abi3-win_amd64.whl.metadata (3.9 kB)\n",
      "Requirement already satisfied: tqdm>=4.27 in c:\\users\\danie\\github\\rapgpt2.0\\.venv\\lib\\site-packages (from transformers) (4.67.1)\n",
      "Requirement already satisfied: fsspec>=2023.5.0 in c:\\users\\danie\\github\\rapgpt2.0\\.venv\\lib\\site-packages (from huggingface-hub<1.0,>=0.30.0->transformers) (2024.6.1)\n",
      "Requirement already satisfied: typing-extensions>=3.7.4.3 in c:\\users\\danie\\github\\rapgpt2.0\\.venv\\lib\\site-packages (from huggingface-hub<1.0,>=0.30.0->transformers) (4.13.2)\n",
      "Requirement already satisfied: colorama in c:\\users\\danie\\github\\rapgpt2.0\\.venv\\lib\\site-packages (from tqdm>=4.27->transformers) (0.4.6)\n",
      "Requirement already satisfied: charset-normalizer<4,>=2 in c:\\users\\danie\\github\\rapgpt2.0\\.venv\\lib\\site-packages (from requests->transformers) (3.4.1)\n",
      "Requirement already satisfied: idna<4,>=2.5 in c:\\users\\danie\\github\\rapgpt2.0\\.venv\\lib\\site-packages (from requests->transformers) (3.10)\n",
      "Requirement already satisfied: urllib3<3,>=1.21.1 in c:\\users\\danie\\github\\rapgpt2.0\\.venv\\lib\\site-packages (from requests->transformers) (2.4.0)\n",
      "Requirement already satisfied: certifi>=2017.4.17 in c:\\users\\danie\\github\\rapgpt2.0\\.venv\\lib\\site-packages (from requests->transformers) (2025.1.31)\n",
      "Downloading transformers-4.51.2-py3-none-any.whl (10.4 MB)\n",
      "   ---------------------------------------- 0.0/10.4 MB ? eta -:--:--\n",
      "   ----------------------- ---------------- 6.0/10.4 MB 30.8 MB/s eta 0:00:01\n",
      "   ---------------------------------------- 10.4/10.4 MB 30.8 MB/s eta 0:00:00\n",
      "Downloading safetensors-0.5.3-cp38-abi3-win_amd64.whl (308 kB)\n",
      "Installing collected packages: safetensors, transformers\n",
      "Successfully installed safetensors-0.5.3 transformers-4.51.2\n",
      "Note: you may need to restart the kernel to use updated packages.\n"
     ]
    }
   ],
   "source": [
    "pip install transformers\n"
   ]
  },
  {
   "cell_type": "code",
   "execution_count": null,
   "id": "87cebd1d",
   "metadata": {},
   "outputs": [],
   "source": []
  }
 ],
 "metadata": {
  "kernelspec": {
   "display_name": ".venv",
   "language": "python",
   "name": "python3"
  },
  "language_info": {
   "codemirror_mode": {
    "name": "ipython",
    "version": 3
   },
   "file_extension": ".py",
   "mimetype": "text/x-python",
   "name": "python",
   "nbconvert_exporter": "python",
   "pygments_lexer": "ipython3",
   "version": "3.11.9"
  }
 },
 "nbformat": 4,
 "nbformat_minor": 5
}
